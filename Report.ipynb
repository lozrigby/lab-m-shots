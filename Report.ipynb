{
 "cells": [
  {
   "cell_type": "markdown",
   "metadata": {},
   "source": [
    "### **Report**"
   ]
  },
  {
   "cell_type": "markdown",
   "metadata": {},
   "source": [
    "**Zero shot**"
   ]
  },
  {
   "cell_type": "code",
   "execution_count": null,
   "metadata": {},
   "outputs": [],
   "source": [
    "context_user = [\n",
    "    {'role':'system', 'content':'You are an expert in movies.'}\n",
    "]\n",
    "print(return_OAIResponse(\"What is the highest grossing film?\", context_user))"
   ]
  },
  {
   "cell_type": "markdown",
   "metadata": {},
   "source": [
    "Output\n",
    "\n",
    "The highest grossing film of all time is \"Avatar\" directed by James Cameron and released in 2009. It grossed over $2.8 billion worldwide.\n",
    "\n",
    "---------------------------------------------------------------------\n",
    "\n",
    "After googling this is correct, the internet says that grossing is a little higher but otheriwse correct."
   ]
  },
  {
   "cell_type": "markdown",
   "metadata": {},
   "source": [
    "One shot"
   ]
  },
  {
   "cell_type": "code",
   "execution_count": null,
   "metadata": {},
   "outputs": [],
   "source": [
    "context_user = [\n",
    "    {'role':'system', 'content':\n",
    "     \"\"\"You are an expert in film.\n",
    "\n",
    "     What was the highest grossing film in the action genre?\n",
    "     Film: Avengers: Endgame.\n",
    "     Earnings: $2.798bn.\"\"\"}\n",
    "]\n",
    "print(return_OAIResponse(\"What was the highest grossing film in the comedy genre?\", context_user))"
   ]
  },
  {
   "cell_type": "markdown",
   "metadata": {},
   "source": [
    "Ouput:\n",
    "\n",
    "The highest grossing film in the comedy genre is currently \"Home Alone.\" Home Alone earned approximately $476.7 million worldwide.\n",
    "\n",
    "\n",
    "---------------------------------------------------------------------------\n",
    "\n",
    "This is incorrect, home alone is the 9th highest grossing film.  Some above it in the list came out recently (kung Fu Pandas 4) the the model may have not been updated, however other above in teh list are from much earlier."
   ]
  },
  {
   "cell_type": "markdown",
   "metadata": {},
   "source": [
    "Few shots"
   ]
  },
  {
   "cell_type": "code",
   "execution_count": null,
   "metadata": {},
   "outputs": [],
   "source": [
    "context_user = [\n",
    "    {'role':'system', 'content':'You are and expert in film.\\n\\n'},\n",
    "    {'role':'user', 'content':'What was the highest grossing film in the action genre?'},\n",
    "    {'role':'assistant', 'content':\"\"\"Film: Avengers: Endgame. \\nWorldwide Boxoffice : $2.798bn. \"\"\"},\n",
    "    {'role':'user', 'content':'What was the highest grossing film in the thriller genre?'},\n",
    "    {'role':'assistant', 'content':\"\"\"Film: Thriller. \\nWorldwide Boxoffice : $1.064 bn\t \"\"\"},\n",
    "]\n",
    "\n",
    "print(return_OAIResponse(\"'What was the highest grossing film in the horror genre?\", context_user))"
   ]
  },
  {
   "cell_type": "markdown",
   "metadata": {},
   "source": [
    "Film: It. \n",
    "\n",
    "Worldwide Boxoffice : $700m.\n",
    "\n",
    "---------------------------------------------------------------------------\n",
    "\n",
    "This was completely correct!"
   ]
  }
 ],
 "metadata": {
  "language_info": {
   "name": "python"
  }
 },
 "nbformat": 4,
 "nbformat_minor": 2
}
